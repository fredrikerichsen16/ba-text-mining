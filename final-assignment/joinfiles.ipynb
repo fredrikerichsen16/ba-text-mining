{
 "cells": [
  {
   "cell_type": "code",
   "execution_count": null,
   "metadata": {},
   "outputs": [],
   "source": [
    "for file in filesinthatfolder:\n",
    "    if file[-4:] != \".csv\":\n",
    "        continue\n",
    "    \n",
    "    # Open in write mode the file\n",
    "    with open(file, \"r\") as f:\n",
    "        lines = f.read().splitlines(True)\n",
    "    \n",
    "    with open(file, 'w') as f:\n",
    "        f.writelines(lines[1:])"
   ]
  }
 ],
 "metadata": {
  "language_info": {
   "name": "python"
  },
  "orig_nbformat": 4
 },
 "nbformat": 4,
 "nbformat_minor": 2
}
