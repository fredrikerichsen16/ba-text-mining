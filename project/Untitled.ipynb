{
 "cells": [
  {
   "cell_type": "code",
   "execution_count": null,
   "id": "b423131e-6467-4cea-92ac-902be6e7a53e",
   "metadata": {},
   "outputs": [],
   "source": [
    "#TO DO\n",
    "#remove @username (and links?) from tweets (probably will make a difference) and recreate bitcoin_tb.csv with new results\n",
    "#regex for username should be @[a-zA-Z]+\n",
    "#for links use TextHero remove_urls(s)\n",
    "#fix VADER error"
   ]
  },
  {
   "cell_type": "code",
   "execution_count": 6,
   "id": "f4d6a778-6d3d-4436-8cd1-407a5620d77a",
   "metadata": {},
   "outputs": [],
   "source": [
    "import pandas as pd\n",
    "import sqlite3\n",
    "from textblob import TextBlob\n",
    "from nltk.sentiment.vader import SentimentIntensityAnalyzer"
   ]
  },
  {
   "cell_type": "code",
   "execution_count": 2,
   "id": "20093e6c-7480-4660-8d9d-c14f7349ccc3",
   "metadata": {},
   "outputs": [],
   "source": [
    "conn = sqlite3.connect(r\"C:\\Users\\Alvin\\Desktop\\ba-text-mining-master\\project\\bitcooon.db\")\n",
    "c = conn.cursor()\n",
    "df = pd.read_sql(\"select date, text from Bitcoin_tweets\", conn)"
   ]
  },
  {
   "cell_type": "code",
   "execution_count": 5,
   "id": "1972db1c-4426-49e7-8e10-32462403559e",
   "metadata": {},
   "outputs": [],
   "source": [
    "#load the descriptions into textblob\n",
    "desc_blob = [TextBlob(txt) for txt in df['text']]\n",
    "#add the sentiment metrics to the dataframe\n",
    "df['tb_Subj'] = [b.sentiment.subjectivity for b in desc_blob]\n",
    "df.to_csv('bitcoin_tb.csv')"
   ]
  },
  {
   "cell_type": "raw",
   "id": "8ef1bf0f-81af-4de2-8135-b25088672dd8",
   "metadata": {},
   "source": [
    "#analyzer = SentimentIntensityAnalyzer()\n",
    "#Add VADER metrics to dataframe\n",
    "#df['compound'] = [analyzer.polarity_scores(v)['compound'] for v in df['text']]\n",
    "#df['neg'] = [analyzer.polarity_scores(v)['neg'] for v in df['text']]\n",
    "#df['neu'] = [analyzer.polarity_scores(v)['neu'] for v in df['text']]\n",
    "#df['pos'] = [analyzer.polarity_scores(v)['pos'] for v in df['text']]\n",
    "#df.to_csv('bitcoin_tb_vd.csv')"
   ]
  },
  {
   "cell_type": "code",
   "execution_count": null,
   "id": "66c9c930-c4f6-4b70-abe3-b77b0d34a33b",
   "metadata": {},
   "outputs": [],
   "source": []
  }
 ],
 "metadata": {
  "kernelspec": {
   "display_name": "Python 3 (ipykernel)",
   "language": "python",
   "name": "python3"
  },
  "language_info": {
   "codemirror_mode": {
    "name": "ipython",
    "version": 3
   },
   "file_extension": ".py",
   "mimetype": "text/x-python",
   "name": "python",
   "nbconvert_exporter": "python",
   "pygments_lexer": "ipython3",
   "version": "3.9.7"
  }
 },
 "nbformat": 4,
 "nbformat_minor": 5
}
